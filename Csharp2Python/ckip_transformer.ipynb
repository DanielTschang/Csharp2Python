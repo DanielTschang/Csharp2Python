{
 "cells": [
  {
   "cell_type": "code",
   "execution_count": 1,
   "metadata": {
    "pycharm": {
     "name": "#%%\n"
    }
   },
   "outputs": [],
   "source": [
    "from ckip_transformers.nlp import CkipWordSegmenter, CkipPosTagger\n",
    "\n",
    "\n",
    "\n",
    "# Initialize drivers with custom checkpoints\n",
    "ws_driver  = CkipWordSegmenter(level=3, device=0)\n",
    "pos_driver = CkipPosTagger(level=3, device=0)"
   ]
  },
  {
   "cell_type": "code",
   "execution_count": 24,
   "metadata": {
    "pycharm": {
     "name": "#%%\n"
    }
   },
   "outputs": [
    {
     "data": {
      "text/plain": [
       "['傅達仁今將執行安樂死', '卻突然爆出自己20年前遭緯來體育台封殺', '他不懂自己哪裡得罪到電視台']"
      ]
     },
     "execution_count": 24,
     "metadata": {},
     "output_type": "execute_result"
    }
   ],
   "source": [
    "text = []\n",
    "tmp = '傅達仁今將執行安樂死，卻突然爆出自己20年前遭緯來體育台封殺，他不懂自己哪裡得罪到電視台。'\n",
    "tmp = tmp.replace('。','')\n",
    "text = tmp.split('，')\n",
    "\n",
    "text\n"
   ]
  },
  {
   "cell_type": "code",
   "execution_count": 49,
   "metadata": {
    "pycharm": {
     "name": "#%%\n"
    }
   },
   "outputs": [
    {
     "name": "stderr",
     "output_type": "stream",
     "text": [
      "Tokenization: 100%|██████████████████████████████████████████████████████████████████████████████| 2/2 [00:00<?, ?it/s]\n",
      "Inference: 100%|█████████████████████████████████████████████████████████████████████████| 1/1 [00:00<00:00, 27.78it/s]\n",
      "Tokenization: 100%|████████████████████████████████████████████████████████████████████| 2/2 [00:00<00:00, 1999.19it/s]\n",
      "Inference: 100%|█████████████████████████████████████████████████████████████████████████| 1/1 [00:00<00:00, 66.68it/s]\n"
     ]
    }
   ],
   "source": [
    "# Run pipeline\n",
    "text = [\"多少個人有愛滋病？\",\"幹什麼東西？\"]\n",
    "ws = ws_driver(text)\n",
    "pos = pos_driver(ws)"
   ]
  },
  {
   "cell_type": "code",
   "execution_count": 50,
   "metadata": {
    "pycharm": {
     "name": "#%%\n"
    }
   },
   "outputs": [
    {
     "name": "stdout",
     "output_type": "stream",
     "text": [
      "[['多少', '個', '人', '有', '愛滋病', '？'], ['幹什麼', '東西', '？']]\n",
      "[['Neqa', 'Nh', 'Na', 'V_2', 'Na', 'QUESTIONCATEGORY'], ['VA', 'Na', 'QUESTIONCATEGORY']]\n"
     ]
    }
   ],
   "source": [
    "print(ws)\n",
    "print(pos)"
   ]
  },
  {
   "cell_type": "code",
   "execution_count": 27,
   "metadata": {
    "pycharm": {
     "name": "#%%\n"
    }
   },
   "outputs": [
    {
     "name": "stdout",
     "output_type": "stream",
     "text": [
      "傅達仁(Nb)　今(Nd)　將(D)　執行(VC)　安樂死(Na)　\n",
      "卻(D)　突然(D)　爆出(VJ)　自己(Nh)　20(Neu)　年(Nf)　前(Ng)　遭(P)　緯來(Nb)　體育台(Na)　封殺(VC)　\n",
      "他(Nh)　不(D)　懂(VK)　自己(Nh)　哪裡(Ncd)　得罪到(VC)　電視台(Nc)　\n"
     ]
    }
   ],
   "source": [
    "ans = []\n",
    "for i in range(len(ws)):\n",
    "    st =''\n",
    "    for j in range(len(ws[i])):\n",
    "        st += ws[i][j] + '(' + pos[i][j] + ')'+ '　'\n",
    "    print(st)\n",
    "    ans.append(st)"
   ]
  },
  {
   "cell_type": "code",
   "execution_count": 28,
   "metadata": {
    "pycharm": {
     "name": "#%%\n"
    }
   },
   "outputs": [
    {
     "data": {
      "text/plain": [
       "['傅達仁(Nb)\\u3000今(Nd)\\u3000將(D)\\u3000執行(VC)\\u3000安樂死(Na)\\u3000',\n",
       " '卻(D)\\u3000突然(D)\\u3000爆出(VJ)\\u3000自己(Nh)\\u300020(Neu)\\u3000年(Nf)\\u3000前(Ng)\\u3000遭(P)\\u3000緯來(Nb)\\u3000體育台(Na)\\u3000封殺(VC)\\u3000',\n",
       " '他(Nh)\\u3000不(D)\\u3000懂(VK)\\u3000自己(Nh)\\u3000哪裡(Ncd)\\u3000得罪到(VC)\\u3000電視台(Nc)\\u3000']"
      ]
     },
     "execution_count": 28,
     "metadata": {},
     "output_type": "execute_result"
    }
   ],
   "source": [
    "ans"
   ]
  },
  {
   "cell_type": "code",
   "execution_count": 29,
   "metadata": {
    "pycharm": {
     "name": "#%%\n"
    }
   },
   "outputs": [
    {
     "name": "stdout",
     "output_type": "stream",
     "text": [
      "ckip_classic 1.2.0\n"
     ]
    }
   ],
   "source": [
    "import ckip_classic.client\n",
    "print(ckip_classic.__name__, ckip_classic.__version__)"
   ]
  },
  {
   "cell_type": "code",
   "execution_count": 30,
   "metadata": {
    "pycharm": {
     "name": "#%%\n"
    }
   },
   "outputs": [],
   "source": [
    "ps = ckip_classic.client.CkipParserClient(username='danchang11', password='to26292661')\n",
    "\n"
   ]
  },
  {
   "cell_type": "code",
   "execution_count": 31,
   "metadata": {
    "pycharm": {
     "name": "#%%\n"
    }
   },
   "outputs": [],
   "source": [
    "def replace(s : str):\n",
    "    for tag in tags:\n",
    "        s = s.replace(tag+\":\",\"\")\n",
    "    return s.replace(\":\",\" \")"
   ]
  },
  {
   "cell_type": "code",
   "execution_count": 32,
   "metadata": {
    "pycharm": {
     "name": "#%%\n"
    }
   },
   "outputs": [
    {
     "data": {
      "text/plain": [
       "['(S(agent:NP(Head:Nba:傅達仁)|time:Ndabd:今|time:Dd:將|Head:VC2:執行|goal:NP(Head:Nad:安樂死)))',\n",
       " '(VP(evaluation:Dbb:卻|time:Dd:突然|Head:VJ3:爆出|range:NP(Head:Nhab:自己)|complement:VP(time:GP(DUMMY:DM:20年|Head:Ng:前)|agent:PP(Head:P60:遭|DUMMY:NP(property:Nba:緯來|Head:Nab:體育台))|Head:VC2:封殺)))',\n",
       " '(S(experiencer:NP(Head:Nhaa:他)|negation:Dc:不|Head:VK1:懂|goal:S(location:NP(property:Nhab:自己|Head:Ncdb:哪裡)|Head:VC:得罪到|goal:NP(Head:Ncb:電視台))))']"
      ]
     },
     "execution_count": 32,
     "metadata": {},
     "output_type": "execute_result"
    }
   ],
   "source": [
    "trees = []\n",
    "for l in ps.apply_list(ans):\n",
    "    l = '(' + l[9:] + ')'\n",
    "    l = l.replace(\"#\",\"\")\n",
    "    trees.append(l)\n",
    "trees"
   ]
  },
  {
   "cell_type": "code",
   "execution_count": 19,
   "metadata": {
    "pycharm": {
     "name": "#%%\n"
    }
   },
   "outputs": [],
   "source": [
    "tags = []\n",
    "file = open(f'C:/Users/danchang11/source/repos/Csharp2Python/Csharp2Python/data/table.txt','r')\n",
    "for e in file:\n",
    "    e=e[:-1]\n",
    "    tags.append(e)"
   ]
  },
  {
   "cell_type": "code",
   "execution_count": 14,
   "metadata": {
    "pycharm": {
     "name": "#%%\n"
    }
   },
   "outputs": [
    {
     "data": {
      "text/plain": [
       "['apposition',\n",
       " 'possessor',\n",
       " 'predication',\n",
       " 'property',\n",
       " 'quantifier',\n",
       " 'agent',\n",
       " 'benefactor',\n",
       " 'causer',\n",
       " 'companion',\n",
       " 'comparison',\n",
       " 'experiencer',\n",
       " 'goal',\n",
       " 'range',\n",
       " 'source',\n",
       " 'target',\n",
       " 'theme',\n",
       " 'topic',\n",
       " 'aspect',\n",
       " 'degree',\n",
       " 'deixis',\n",
       " 'deontics',\n",
       " 'duration',\n",
       " 'evaluation',\n",
       " 'epistemics',\n",
       " 'frequency',\n",
       " 'instrument',\n",
       " 'interjection',\n",
       " 'location',\n",
       " 'manner',\n",
       " 'negation',\n",
       " 'particle',\n",
       " 'quantity',\n",
       " 'standard',\n",
       " 'time',\n",
       " 'addition',\n",
       " 'alternative',\n",
       " 'avoidance',\n",
       " 'complement',\n",
       " 'conclusion',\n",
       " 'condition',\n",
       " 'concession',\n",
       " 'contrast',\n",
       " 'conversion',\n",
       " 'exclusion',\n",
       " 'hypothesis',\n",
       " 'listing',\n",
       " 'purpose',\n",
       " 'reason',\n",
       " 'rejection',\n",
       " 'result',\n",
       " 'restriction',\n",
       " 'selection',\n",
       " 'uncondition',\n",
       " 'whatever',\n",
       " 'DUMMY',\n",
       " 'DUMMY1',\n",
       " 'DUMMY2',\n",
       " 'Head',\n",
       " 'head',\n",
       " 'nomina']"
      ]
     },
     "execution_count": 14,
     "metadata": {},
     "output_type": "execute_result"
    }
   ],
   "source": [
    "tags\n"
   ]
  },
  {
   "cell_type": "code",
   "execution_count": 33,
   "metadata": {
    "pycharm": {
     "name": "#%%\n"
    }
   },
   "outputs": [
    {
     "data": {
      "text/plain": [
       "['(S(NP(Nba 傅達仁)|Ndabd 今|Dd 將|VC2 執行|NP(Nad 安樂死)))',\n",
       " '(VP(Dbb 卻|Dd 突然|VJ3 爆出|NP(Nhab 自己)|VP(GP(DM 20年|Ng 前)|PP(P60 遭|NP(Nba 緯來|Nab 體育台))|VC2 封殺)))',\n",
       " '(S(NP(Nhaa 他)|Dc 不|VK1 懂|S(NP(Nhab 自己|Ncdb 哪裡)|VC 得罪到|NP(Ncb 電視台))))']"
      ]
     },
     "execution_count": 33,
     "metadata": {},
     "output_type": "execute_result"
    }
   ],
   "source": [
    "ho =[]\n",
    "for tree in trees:\n",
    "    tree = replace(tree)\n",
    "    ho.append(tree)\n",
    "ho"
   ]
  },
  {
   "cell_type": "code",
   "execution_count": 34,
   "metadata": {
    "pycharm": {
     "name": "#%%\n"
    }
   },
   "outputs": [],
   "source": [
    "class Node:\n",
    "    def __init__(self,start):\n",
    "        self.start = start\n",
    "        self.children = []\n",
    "        self.parent = Node\n",
    "        self.text = ''\n",
    "        self.type = ''"
   ]
  },
  {
   "cell_type": "code",
   "execution_count": 35,
   "metadata": {
    "pycharm": {
     "name": "#%%\n"
    }
   },
   "outputs": [],
   "source": [
    "def make_tree(s):\n",
    "    stack = []\n",
    "    nodes = []\n",
    "    cur = None\n",
    "    root = None\n",
    "    parent = None\n",
    "    flag = 0\n",
    "    for i, c in enumerate(s):\n",
    "        if c == '(':\n",
    "            flag = 0\n",
    "            cur = Node(i)#（的index是i\n",
    "            if stack:\n",
    "                stack[-1].children.append(cur)\n",
    "                cur.parent = stack[-1]\n",
    "            stack.append(cur)\n",
    "\n",
    "            if root is None:\n",
    "                root = cur\n",
    "\n",
    "        elif c == ')' and stack:\n",
    "            topnode = stack.pop()\n",
    "            text = s[topnode.start + 1: i].split(\" \")[1].split(\"(\")[0]\n",
    "            topnode.text = text\n",
    "\n",
    "\n",
    "        elif flag == 0 and stack:\n",
    "            if c == \" \":\n",
    "                flag = 1\n",
    "                continue\n",
    "\n",
    "            cur = stack[-1]\n",
    "            cur.type = cur.type + s[i]\n",
    "\n",
    "\n",
    "    return root"
   ]
  },
  {
   "cell_type": "code",
   "execution_count": 46,
   "metadata": {
    "pycharm": {
     "name": "#%%\n"
    }
   },
   "outputs": [],
   "source": [
    "hi = make_tree(ho[1])"
   ]
  },
  {
   "cell_type": "code",
   "execution_count": 37,
   "metadata": {
    "pycharm": {
     "name": "#%%\n"
    }
   },
   "outputs": [
    {
     "data": {
      "text/plain": [
       "<__main__.Node at 0x1fd9598ed30>"
      ]
     },
     "execution_count": 37,
     "metadata": {},
     "output_type": "execute_result"
    }
   ],
   "source": [
    "hi"
   ]
  },
  {
   "cell_type": "code",
   "execution_count": 38,
   "metadata": {
    "pycharm": {
     "name": "#%%\n"
    }
   },
   "outputs": [
    {
     "name": "stdout",
     "output_type": "stream",
     "text": [
      "(S(NP(Nba 傅達仁)|Ndabd 今|Dd 將|VC2 執行|NP(Nad 安樂死)))\n",
      "(VP(Dbb 卻|Dd 突然|VJ3 爆出|NP(Nhab 自己)|VP(GP(DM 20年|Ng 前)|PP(P60 遭|NP(Nba 緯來|Nab 體育台))|VC2 封殺)))\n",
      "(S(NP(Nhaa 他)|Dc 不|VK1 懂|S(NP(Nhab 自己|Ncdb 哪裡)|VC 得罪到|NP(Ncb 電視台))))\n"
     ]
    }
   ],
   "source": [
    "for each in ho:\n",
    "    print(each)"
   ]
  },
  {
   "cell_type": "code",
   "execution_count": 40,
   "metadata": {
    "pycharm": {
     "name": "#%%\n"
    }
   },
   "outputs": [],
   "source": [
    "def list_of_leaves(node):\n",
    "    result = []\n",
    "    for child in node.children:\n",
    "        result.extend(list_of_leaves(child))\n",
    "    if not result:\n",
    "        return [node]\n",
    "\n",
    "    return result"
   ]
  },
  {
   "cell_type": "code",
   "execution_count": 47,
   "metadata": {
    "pycharm": {
     "name": "#%%\n"
    }
   },
   "outputs": [
    {
     "data": {
      "text/plain": [
       "[<__main__.Node at 0x1fd9598ec70>,\n",
       " <__main__.Node at 0x1fd8c405ca0>,\n",
       " <__main__.Node at 0x1fd8c405ee0>]"
      ]
     },
     "execution_count": 47,
     "metadata": {},
     "output_type": "execute_result"
    }
   ],
   "source": [
    "hi2 = list_of_leaves(hi)\n",
    "hi2"
   ]
  },
  {
   "cell_type": "code",
   "execution_count": 42,
   "metadata": {
    "pycharm": {
     "name": "#%%\n"
    }
   },
   "outputs": [],
   "source": [
    "def inorder(leaf:list):\n",
    "    phaselist = ['NP','VP']\n",
    "    tmp = None\n",
    "    keywords = ''\n",
    "    for node in leaf:\n",
    "        parent = node.parent\n",
    "        if tmp == parent:\n",
    "            continue\n",
    "        tmp = parent\n",
    "        if parent.type in phaselist:\n",
    "            phase = ''\n",
    "            for i in parent.children:\n",
    "                phase = phase + i.text\n",
    "            keywords = keywords +' '+phase\n",
    "    return keywords"
   ]
  },
  {
   "cell_type": "code",
   "execution_count": 48,
   "metadata": {
    "pycharm": {
     "name": "#%%\n"
    }
   },
   "outputs": [
    {
     "name": "stdout",
     "output_type": "stream",
     "text": [
      "自己\n",
      "20年|Ng\n",
      "緯來|Nab\n"
     ]
    }
   ],
   "source": [
    "for each in hi2:\n",
    "    print(each.text)"
   ]
  },
  {
   "cell_type": "code",
   "execution_count": 44,
   "metadata": {
    "pycharm": {
     "name": "#%%\n"
    }
   },
   "outputs": [
    {
     "name": "stderr",
     "output_type": "stream",
     "text": [
      "Tokenization: 100%|████████████████████████████████████████████████████████████████████| 1/1 [00:00<00:00, 1000.79it/s]\n",
      "Inference: 100%|█████████████████████████████████████████████████████████████████████████| 1/1 [00:00<00:00, 29.41it/s]\n",
      "Tokenization: 100%|██████████████████████████████████████████████████████████████████████████████| 1/1 [00:00<?, ?it/s]\n",
      "Inference: 100%|█████████████████████████████████████████████████████████████████████████| 1/1 [00:00<00:00, 66.67it/s]"
     ]
    },
    {
     "name": "stdout",
     "output_type": "stream",
     "text": [
      "[['為何', '要', '在', '行政', '訴訟', '法', '增訂', '都市', '計畫', '審查', '程序', '專章']]\n",
      "[['D', 'D', 'P', 'Na', 'Nv', 'Na', 'VC', 'Na', 'Na', 'Nv', 'Na', 'Na']]\n"
     ]
    },
    {
     "name": "stderr",
     "output_type": "stream",
     "text": [
      "\n"
     ]
    }
   ],
   "source": [
    "testtxt = [\"為何要在行政訴訟法增訂都市計畫審查程序專章\"]\n",
    "ws_test = ws_driver(testtxt)\n",
    "pos_test = pos_driver(ws_test)\n",
    "print(ws_test)\n",
    "print(pos_test)"
   ]
  },
  {
   "cell_type": "code",
   "execution_count": 45,
   "metadata": {
    "pycharm": {
     "name": "#%%\n"
    }
   },
   "outputs": [
    {
     "name": "stdout",
     "output_type": "stream",
     "text": [
      "為何(D)　要(D)　在(P)　行政(Na)　訴訟(Nv)　法(Na)　增訂(VC)　都市(Na)　計畫(Na)　審查(Nv)　程序(Na)　專章(Na)　\n"
     ]
    }
   ],
   "source": [
    "ans_test = []\n",
    "for i in range(len(ws_test)):\n",
    "    st =''\n",
    "    for j in range(len(ws_test[i])):\n",
    "        st += ws_test[i][j] + '(' + pos_test[i][j] + ')'+ '　'\n",
    "    print(st)\n",
    "    ans_test.append(st)"
   ]
  },
  {
   "cell_type": "code",
   "execution_count": 34,
   "metadata": {
    "pycharm": {
     "name": "#%%\n"
    }
   },
   "outputs": [
    {
     "data": {
      "text/plain": [
       "['#1:1.[0] VP(reason:Dj:為何|deontics:Dbab:要|time:PP(Head:P21:在|DUMMY:NP(property:Nad:行政|property:Nv4:訴訟|Head:Nad:法))|Head:VC2:增訂|goal:NP(property:Nab:都市|property:Nac:計畫|property:Nv1:審查|property:Nac:程序|Head:Nab:專章))#']"
      ]
     },
     "execution_count": 34,
     "metadata": {},
     "output_type": "execute_result"
    }
   ],
   "source": [
    "ps.apply_list(ans_test)"
   ]
  }
 ],
 "metadata": {
  "kernelspec": {
   "display_name": "Python 3",
   "language": "python",
   "name": "python3"
  },
  "language_info": {
   "codemirror_mode": {
    "name": "ipython",
    "version": 3
   },
   "file_extension": ".py",
   "mimetype": "text/x-python",
   "name": "python",
   "nbconvert_exporter": "python",
   "pygments_lexer": "ipython3",
   "version": "3.8.6"
  }
 },
 "nbformat": 4,
 "nbformat_minor": 1
}
